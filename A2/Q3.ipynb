{
 "cells": [
  {
   "cell_type": "code",
   "execution_count": 2,
   "metadata": {},
   "outputs": [],
   "source": [
    "import math\n",
    "import matplotlib.pyplot as plt"
   ]
  },
  {
   "cell_type": "code",
   "execution_count": 3,
   "metadata": {},
   "outputs": [],
   "source": [
    "file = open(\"IR-assignment-2-data.txt\",\"r\")\n",
    "\n",
    "data = file.readlines()\n",
    "\n",
    "data_list = []\n",
    "for line in data:\n",
    "    data_list.append(line.split())\n",
    "\n",
    "\n",
    "\n",
    "\n"
   ]
  },
  {
   "attachments": {},
   "cell_type": "markdown",
   "metadata": {},
   "source": [
    "## a)\n",
    "### to extract qid:4 query url pairs from data and sort according to relevance scores"
   ]
  },
  {
   "cell_type": "code",
   "execution_count": 4,
   "metadata": {},
   "outputs": [
    {
     "name": "stdout",
     "output_type": "stream",
     "text": [
      "total number of files that can be made are:\n",
      "19893497375938370599826047614905329896936840170566570588205180312704857992695193482412686565431050240000000000000000000000\n"
     ]
    }
   ],
   "source": [
    "def fac(n):\n",
    "    fact = 1\n",
    "    for i in range(1, n+1):\n",
    "        fact = fact * i\n",
    "    return fact\n",
    "\n",
    "qid4_list = []\n",
    "for line_list in data_list:\n",
    "    if line_list[1]=='qid:4':\n",
    "        qid4_list.append(line_list)\n",
    "\n",
    "\n",
    "qid4_sorted_list = []\n",
    "count = 0\n",
    "tot_count = 1\n",
    "for j in range(4,-1,-1):\n",
    "    count = 0\n",
    "    for i in qid4_list:\n",
    "        # print(j)\n",
    "        if int(i[0]) == j:\n",
    "            qid4_sorted_list.append(i)\n",
    "            count+=1\n",
    "    tot_count = tot_count*fac(count)\n",
    "\n",
    "print(\"total number of files that can be made are:\")\n",
    "print(tot_count)\n",
    "\n",
    "with open(\"qid4_sorted_data.txt\", \"wt\") as f:\n",
    "    for line in qid4_sorted_list:\n",
    "        f.write(\" \".join(line) + \"\\n\")\n",
    "    # for line in data_list:\n",
    "    #     if line[1]!= 'qid:4':\n",
    "    #         f.write(\" \".join(line) + \"\\n\")\n"
   ]
  },
  {
   "attachments": {},
   "cell_type": "markdown",
   "metadata": {},
   "source": [
    "## b)\n",
    "### to calculate ndcg of first 50 results and the whole database"
   ]
  },
  {
   "cell_type": "code",
   "execution_count": 6,
   "metadata": {},
   "outputs": [
    {
     "name": "stdout",
     "output_type": "stream",
     "text": [
      "ndcg for first 50 is:\n",
      "0.3521042740324887\n",
      "ndcg for all dataset is:\n",
      "0.5979226516897831\n"
     ]
    }
   ],
   "source": [
    "\n",
    "dcg50 = float(qid4_list[0][0])\n",
    "for i in range(1,50):\n",
    "    dcg50 += float(qid4_list[i][0])/(math.log(i+1,2))\n",
    "    # print(dcg_all)\n",
    "\n",
    "dcg50_ideal = float(qid4_sorted_list[0][0])\n",
    "for i in range(1,50):\n",
    "    dcg50_ideal += float(qid4_sorted_list[i][0])/math.log(i+1,2)\n",
    "    \n",
    "    # print(str(qid4_sorted_list[i][0]) + \" \" + str(math.log(i+1,2)) + \" \" + str(dcg50_ideal))\n",
    "\n",
    "ndcg_50 = dcg50/dcg50_ideal\n",
    "\n",
    "# for whole dataset \n",
    "\n",
    "dcg_all = float(qid4_list[0][0])\n",
    "for i in range(1,len(qid4_sorted_list)):\n",
    "    dcg_all += float(qid4_list[i][0])/(math.log(i+1,2))\n",
    "    # print(dcg_all)\n",
    "\n",
    "dcg_all_ideal = float(qid4_sorted_list[0][0])\n",
    "for i in range(1,len(qid4_sorted_list)):\n",
    "    dcg_all_ideal += float(qid4_sorted_list[i][0])/(math.log(i+1,2))\n",
    "    # print(dcg_all_ideal)\n",
    "\n",
    "ndcg_all = dcg_all/dcg_all_ideal\n",
    "\n",
    "print(\"ndcg for first 50 is:\")\n",
    "print(ndcg_50)\n",
    "\n",
    "print(\"ndcg for all dataset is:\")\n",
    "print(ndcg_all)"
   ]
  },
  {
   "attachments": {},
   "cell_type": "markdown",
   "metadata": {},
   "source": [
    "## c)\n",
    "### precision -> True +ve/ ( true +ve + false +ve) or relevant results/ (relevant + non-relevant = total results) \n",
    "### recall -> True +ve/(true+ve + false -ve) or relevant results / total relevant results)"
   ]
  },
  {
   "cell_type": "code",
   "execution_count": 9,
   "metadata": {},
   "outputs": [
    {
     "data": {
      "image/png": "[encoded data removed]",
      "text/plain": [
       "<Figure size 640x480 with 1 Axes>"
      ]
     },
     "metadata": {},
     "output_type": "display_data"
    }
   ],
   "source": [
    "# creating list which is sorted on basis of feature 75 (sum of tf-idf of a doc) in descending order\n",
    "\n",
    "qid4_f75_sorted = sorted(qid4_list, key = lambda x: float(x[76].split(':')[-1]), reverse = True)\n",
    "\n",
    "# plotting the precision recall curve\n",
    "\n",
    "cur_relevant_res = 0\n",
    "recall = []\n",
    "precision = []\n",
    "tot_relevant = 0\n",
    "\n",
    "\n",
    "for i in qid4_f75_sorted:\n",
    "    if int(i[0]) > 0:\n",
    "        tot_relevant += 1\n",
    "\n",
    "for ind,i in enumerate(qid4_f75_sorted):\n",
    "    if int(i[0]) > 0:\n",
    "        cur_relevant_res += 1\n",
    "    recall.append(float(cur_relevant_res/tot_relevant))\n",
    "    precision.append(float(cur_relevant_res/(ind+1)))\n",
    "\n",
    "\n",
    "\n",
    "plt.title(\"precision recall curve\")\n",
    "plt.ylabel(\"precision value\")\n",
    "plt.xlabel(\"recall value\")\n",
    "plt.plot(recall, precision)\n",
    "plt.show()\n",
    "\n",
    "\n",
    "# for i in range(len(qid4_f75_sorted)):\n",
    "#     print(qid4_f75_sorted[i][76] + \" \" + qid4_list[i][76])"
   ]
  },
  {
   "attachments": {},
   "cell_type": "markdown",
   "metadata": {},
   "source": [
    "In information retrieval, precision is a measure of result relevancy, while recall is a measure of how many truly relevant results are returned.\n",
    "\n",
    "The precision-recall curve shows the tradeoff between precision and recall for different threshold. A high area under the curve represents both high recall and high precision, where high precision relates to a low false positive rate, and high recall relates to a low false negative rate.\n",
    "\n",
    "A system with high recall but low precision returns many results, but most of its predicted labels are incorrect when compared to the training labels. A system with high precision but low recall is just the opposite, returning very few results, but most of its predicted labels are correct when compared to the training labels. An ideal system with high precision and high recall will return many results, with all results labeled correctly."
   ]
  }
 ],
 "metadata": {
  "kernelspec": {
   "display_name": "base",
   "language": "python",
   "name": "python3"
  },
  "language_info": {
   "codemirror_mode": {
    "name": "ipython",
    "version": 3
   },
   "file_extension": ".py",
   "mimetype": "text/x-python",
   "name": "python",
   "nbconvert_exporter": "python",
   "pygments_lexer": "ipython3",
   "version": "3.9.13"
  },
  "orig_nbformat": 4,
  "vscode": {
   "interpreter": {
    "hash": "10a6afa7f546b8aeddabb531bd09b33e3634fe1e44cc86f33fc43c56ed89614d"
   }
  }
 },
 "nbformat": 4,
 "nbformat_minor": 2
}
